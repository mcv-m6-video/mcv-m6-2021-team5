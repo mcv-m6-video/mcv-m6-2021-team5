{
 "metadata": {
  "language_info": {
   "codemirror_mode": {
    "name": "ipython",
    "version": 3
   },
   "file_extension": ".py",
   "mimetype": "text/x-python",
   "name": "python",
   "nbconvert_exporter": "python",
   "pygments_lexer": "ipython3",
   "version": "3.9.2-final"
  },
  "orig_nbformat": 2,
  "kernelspec": {
   "name": "python39264bit7bd55f64cca54ab19a187671c1451f06",
   "display_name": "Python 3.9.2 64-bit"
  }
 },
 "nbformat": 4,
 "nbformat_minor": 2,
 "cells": [
  {
   "cell_type": "code",
   "execution_count": 1,
   "metadata": {},
   "outputs": [],
   "source": [
    "from utils.reader import AnnotationReader, ImageReader\n",
    "from evaluation.ap import mean_average_precision\n",
    "from utils.plotting import plot_detections \n",
    "from evaluation.iou import compute_iou_over_time\n",
    "from matplotlib import pyplot as plt\n",
    "\n",
    "from bgestimation.gaussian_estimation import GaussianBGEstimator\n",
    "\n",
    "import cv2\n",
    "import numpy as np\n",
    "import math "
   ]
  },
  {
   "cell_type": "code",
   "execution_count": 2,
   "metadata": {},
   "outputs": [],
   "source": [
    "#Paths to images\n",
    "gt_path = 'datasets/aicity/ai_challenge_s03_c010-full_annotation.xml'\n",
    "img_path = 'datasets/aicity/AICity_data/train/S03/c010/frames/'\n",
    "det_path = 'datasets/aicity/AICity_data/train/S03/c010/det/'"
   ]
  },
  {
   "cell_type": "code",
   "execution_count": null,
   "metadata": {},
   "outputs": [],
   "source": [
    "reader = AnnotationReader(gt_path)\n",
    "gt = reader.get_bboxes_per_frame(classes=['car'])\n",
    "img_reader = ImageReader(img_path)\n",
    "train_imgs = img_reader.get_train(color=True)\n",
    "val_imgs = img_reader.get_val(color=True)\n",
    "\n",
    "bb_gt = []\n",
    "for frame in gt.keys():\n",
    "    bb_gt.append(gt[frame])\n",
    "\n",
    "print('Done!')\n",
    "print('\\n\\n------------------- Task 1 -------------------')\n",
    "task1_1(train_imgs, val_imgs, bb_gt)"
   ]
  }
 ]
}